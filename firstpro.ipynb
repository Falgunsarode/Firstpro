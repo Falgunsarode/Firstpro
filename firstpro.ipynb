{
  "nbformat": 4,
  "nbformat_minor": 0,
  "metadata": {
    "colab": {
      "provenance": []
    },
    "kernelspec": {
      "name": "python3",
      "display_name": "Python 3"
    },
    "language_info": {
      "name": "python"
    }
  },
  "cells": [
    {
      "cell_type": "code",
      "execution_count": 1,
      "metadata": {
        "colab": {
          "base_uri": "https://localhost:8080/"
        },
        "id": "_MSxLKaVrN8u",
        "outputId": "95b9297e-41d1-4cae-8e69-f80793f033ae"
      },
      "outputs": [
        {
          "output_type": "stream",
          "name": "stdout",
          "text": [
            "Hello World\n"
          ]
        }
      ],
      "source": [
        "print(\"Hello World \")\n"
      ]
    },
    {
      "cell_type": "code",
      "source": [
        "print(\" Falgun Suresh Sarode\")"
      ],
      "metadata": {
        "colab": {
          "base_uri": "https://localhost:8080/"
        },
        "id": "q0zdYc9br8Fv",
        "outputId": "422d63d7-4e17-4482-b194-1a69596c0b27"
      },
      "execution_count": 4,
      "outputs": [
        {
          "output_type": "stream",
          "name": "stdout",
          "text": [
            " Falgun Suresh Sarode\n"
          ]
        }
      ]
    },
    {
      "cell_type": "code",
      "source": [],
      "metadata": {
        "id": "Sjj6WlNUsLh6"
      },
      "execution_count": null,
      "outputs": []
    }
  ]
}